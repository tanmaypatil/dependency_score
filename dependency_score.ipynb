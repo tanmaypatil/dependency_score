{
 "cells": [
  {
   "cell_type": "code",
   "execution_count": null,
   "id": "f03d1182-9bed-4cf6-aa63-776f994195d1",
   "metadata": {},
   "outputs": [],
   "source": [
    "import graphviz\n",
    "from graphviz import Digraph"
   ]
  },
  {
   "cell_type": "code",
   "execution_count": 20,
   "id": "b92aa6ab-e07b-43a6-91ec-09d90302fb8e",
   "metadata": {},
   "outputs": [],
   "source": [
    "class Value:\n",
    "    def __init__(self, id,dep_score=1,_children=(), _op=''):\n",
    "        self.id = id\n",
    "        self.dep_score = dep_score\n",
    "        self._prev = set(_children)\n",
    "        self._op = _op # the op that produced this node, for graphviz / debugging / etc\n",
    "    def __radd__(self, other): # other + self\n",
    "        return self + other\n",
    "    def __add__(self, other):\n",
    "        other = other if isinstance(other, Value) else Value(other)\n",
    "        id = self.id + ' , ' + other.id\n",
    "        print(f\"id is {id}\")\n",
    "        dep_score = self.dep_score + other.dep_score\n",
    "        print(f\"dep score self {self.dep_score} and others {other.dep_score}\")\n",
    "        out = Value(id, dep_score, (self, other), '+')\n",
    "        return out"
   ]
  },
  {
   "cell_type": "code",
   "execution_count": 21,
   "id": "9da1a8a1-f1a5-43a1-8526-f81881b40f7f",
   "metadata": {},
   "outputs": [],
   "source": [
    "def trace(root):\n",
    "    nodes, edges = set(), set()\n",
    "    def build(v):\n",
    "        if v not in nodes:\n",
    "            nodes.add(v)\n",
    "            for child in v._prev:\n",
    "                edges.add((child, v))\n",
    "                build(child)\n",
    "    build(root)\n",
    "    return nodes, edges"
   ]
  },
  {
   "cell_type": "code",
   "execution_count": 22,
   "id": "8846bcda-2320-4700-8648-29a2e05b6c53",
   "metadata": {},
   "outputs": [],
   "source": [
    "def draw_dot(root, format='svg', rankdir='LR'):\n",
    "    \"\"\"\n",
    "    format: png | svg | ...\n",
    "    rankdir: TB (top to bottom graph) | LR (left to right)\n",
    "    \"\"\"\n",
    "    assert rankdir in ['LR', 'TB']\n",
    "    nodes, edges = trace(root)\n",
    "    dot = Digraph(format=format, graph_attr={'rankdir': rankdir}) #, node_attr={'rankdir': 'TB'})\n",
    "    \n",
    "    for n in nodes:\n",
    "        dot.node(name=str(id(n)), label = \"{ id %s | dep_score %.4f }\" % (n.id, n.dep_score), shape='record')\n",
    "        if n._op:\n",
    "            dot.node(name=str(id(n)) + n._op, label=n._op)\n",
    "            dot.edge(str(id(n)) + n._op, str(id(n)))\n",
    "    \n",
    "    for n1, n2 in edges:\n",
    "        dot.edge(str(id(n1)), str(id(n2)) + n2._op)\n",
    "    \n",
    "    return dot"
   ]
  },
  {
   "cell_type": "code",
   "execution_count": 23,
   "id": "55335837-475e-44db-ad70-a666b4b0ceac",
   "metadata": {},
   "outputs": [],
   "source": [
    "sheet_name='dependency'\n",
    "# Read the worksheet into a pandas DataFrame\n",
    "df = pd.read_excel(file_path, sheet_name=sheet_name)"
   ]
  },
  {
   "cell_type": "code",
   "execution_count": 24,
   "id": "a723c98f-0c39-466a-a123-be79e95c0df2",
   "metadata": {},
   "outputs": [
    {
     "data": {
      "text/html": [
       "<div>\n",
       "<style scoped>\n",
       "    .dataframe tbody tr th:only-of-type {\n",
       "        vertical-align: middle;\n",
       "    }\n",
       "\n",
       "    .dataframe tbody tr th {\n",
       "        vertical-align: top;\n",
       "    }\n",
       "\n",
       "    .dataframe thead th {\n",
       "        text-align: right;\n",
       "    }\n",
       "</style>\n",
       "<table border=\"1\" class=\"dataframe\">\n",
       "  <thead>\n",
       "    <tr style=\"text-align: right;\">\n",
       "      <th></th>\n",
       "      <th>srl num</th>\n",
       "      <th>requirement</th>\n",
       "      <th>dependency</th>\n",
       "      <th>requirement effort</th>\n",
       "      <th>dependency effort</th>\n",
       "      <th>dependency delivery sprint</th>\n",
       "      <th>dependency epic</th>\n",
       "    </tr>\n",
       "  </thead>\n",
       "  <tbody>\n",
       "    <tr>\n",
       "      <th>0</th>\n",
       "      <td>1</td>\n",
       "      <td>P2G-100</td>\n",
       "      <td>devops</td>\n",
       "      <td>100</td>\n",
       "      <td>20</td>\n",
       "      <td>4</td>\n",
       "      <td>GDB-100</td>\n",
       "    </tr>\n",
       "    <tr>\n",
       "      <th>1</th>\n",
       "      <td>2</td>\n",
       "      <td>P2G-100</td>\n",
       "      <td>infra</td>\n",
       "      <td>100</td>\n",
       "      <td>10</td>\n",
       "      <td>3</td>\n",
       "      <td>PCM-100</td>\n",
       "    </tr>\n",
       "    <tr>\n",
       "      <th>2</th>\n",
       "      <td>3</td>\n",
       "      <td>P2G-101</td>\n",
       "      <td>ob</td>\n",
       "      <td>100</td>\n",
       "      <td>10</td>\n",
       "      <td>1</td>\n",
       "      <td>P2G-501</td>\n",
       "    </tr>\n",
       "  </tbody>\n",
       "</table>\n",
       "</div>"
      ],
      "text/plain": [
       "   srl num requirement dependency  requirement effort  dependency effort  \\\n",
       "0        1     P2G-100     devops                 100                 20   \n",
       "1        2     P2G-100      infra                 100                 10   \n",
       "2        3     P2G-101         ob                 100                 10   \n",
       "\n",
       "   dependency delivery sprint dependency epic  \n",
       "0                           4         GDB-100  \n",
       "1                           3         PCM-100  \n",
       "2                           1         P2G-501  "
      ]
     },
     "execution_count": 24,
     "metadata": {},
     "output_type": "execute_result"
    }
   ],
   "source": [
    "df"
   ]
  },
  {
   "cell_type": "code",
   "execution_count": 25,
   "id": "6f8f08cd-7a3d-4a9f-91ed-ccdc92ab2d6d",
   "metadata": {},
   "outputs": [
    {
     "name": "stdout",
     "output_type": "stream",
     "text": [
      "0 P2G-100 100 20 4 GDB-100\n",
      "1 P2G-100 100 10 3 PCM-100\n",
      "2 P2G-101 100 10 1 P2G-501\n"
     ]
    }
   ],
   "source": [
    "for index, row in df.iterrows():\n",
    "    print(index, row['requirement'],row['requirement effort'] ,row['dependency effort'], row['dependency delivery sprint'],row['dependency epic'])"
   ]
  },
  {
   "cell_type": "code",
   "execution_count": 26,
   "id": "85965aaa-0517-437c-9eeb-f15827f4e55e",
   "metadata": {},
   "outputs": [],
   "source": [
    "x = Value(\"P2G-100\")"
   ]
  },
  {
   "cell_type": "code",
   "execution_count": 27,
   "id": "da5aaee5-ab9d-4efc-b453-cc73a69024a2",
   "metadata": {},
   "outputs": [],
   "source": [
    "y = Value(\"P2G-101\",5)"
   ]
  },
  {
   "cell_type": "code",
   "execution_count": 28,
   "id": "cefe343d-7759-4125-8e4f-1af059336c04",
   "metadata": {},
   "outputs": [
    {
     "name": "stdout",
     "output_type": "stream",
     "text": [
      "id is P2G-100 , P2G-101\n",
      "dep score self 1 and others 5\n"
     ]
    }
   ],
   "source": [
    "z = x + y "
   ]
  },
  {
   "cell_type": "code",
   "execution_count": 30,
   "id": "eddb5f5b-1d03-44d7-9603-608f2637b43d",
   "metadata": {},
   "outputs": [
    {
     "data": {
      "image/svg+xml": [
       "<?xml version=\"1.0\" encoding=\"UTF-8\" standalone=\"no\"?>\n",
       "<!DOCTYPE svg PUBLIC \"-//W3C//DTD SVG 1.1//EN\"\n",
       " \"http://www.w3.org/Graphics/SVG/1.1/DTD/svg11.dtd\">\n",
       "<!-- Generated by graphviz version 10.0.1 (20240210.2158)\n",
       " -->\n",
       "<!-- Pages: 1 -->\n",
       "<svg width=\"590pt\" height=\"100pt\"\n",
       " viewBox=\"0.00 0.00 589.50 100.00\" xmlns=\"http://www.w3.org/2000/svg\" xmlns:xlink=\"http://www.w3.org/1999/xlink\">\n",
       "<g id=\"graph0\" class=\"graph\" transform=\"scale(1 1) rotate(0) translate(4 96)\">\n",
       "<polygon fill=\"white\" stroke=\"none\" points=\"-4,4 -4,-96 585.5,-96 585.5,4 -4,4\"/>\n",
       "<!-- 2667190567824 -->\n",
       "<g id=\"node1\" class=\"node\">\n",
       "<title>2667190567824</title>\n",
       "<polygon fill=\"none\" stroke=\"black\" points=\"0,-55.5 0,-91.5 197,-91.5 197,-55.5 0,-55.5\"/>\n",
       "<text text-anchor=\"middle\" x=\"40.25\" y=\"-68.2\" font-family=\"Times New Roman,serif\" font-size=\"14.00\">id P2G&#45;100</text>\n",
       "<polyline fill=\"none\" stroke=\"black\" points=\"80.5,-55.75 80.5,-91.5\"/>\n",
       "<text text-anchor=\"middle\" x=\"138.75\" y=\"-68.2\" font-family=\"Times New Roman,serif\" font-size=\"14.00\">dep_score 1.0000</text>\n",
       "</g>\n",
       "<!-- 2667191114704+ -->\n",
       "<g id=\"node3\" class=\"node\">\n",
       "<title>2667191114704+</title>\n",
       "<ellipse fill=\"none\" stroke=\"black\" cx=\"260\" cy=\"-45.5\" rx=\"27\" ry=\"18\"/>\n",
       "<text text-anchor=\"middle\" x=\"260\" y=\"-40.08\" font-family=\"Times New Roman,serif\" font-size=\"14.00\">+</text>\n",
       "</g>\n",
       "<!-- 2667190567824&#45;&gt;2667191114704+ -->\n",
       "<g id=\"edge2\" class=\"edge\">\n",
       "<title>2667190567824&#45;&gt;2667191114704+</title>\n",
       "<path fill=\"none\" stroke=\"black\" d=\"M197.33,-56.33C206.15,-54.78 214.66,-53.28 222.4,-51.93\"/>\n",
       "<polygon fill=\"black\" stroke=\"black\" points=\"222.75,-55.42 231.99,-50.24 221.54,-48.52 222.75,-55.42\"/>\n",
       "</g>\n",
       "<!-- 2667191114704 -->\n",
       "<g id=\"node2\" class=\"node\">\n",
       "<title>2667191114704</title>\n",
       "<polygon fill=\"none\" stroke=\"black\" points=\"323,-27.5 323,-63.5 581.5,-63.5 581.5,-27.5 323,-27.5\"/>\n",
       "<text text-anchor=\"middle\" x=\"394\" y=\"-40.2\" font-family=\"Times New Roman,serif\" font-size=\"14.00\">id P2G&#45;100 , P2G&#45;101</text>\n",
       "<polyline fill=\"none\" stroke=\"black\" points=\"465,-27.75 465,-63.5\"/>\n",
       "<text text-anchor=\"middle\" x=\"523.25\" y=\"-40.2\" font-family=\"Times New Roman,serif\" font-size=\"14.00\">dep_score 6.0000</text>\n",
       "</g>\n",
       "<!-- 2667191114704+&#45;&gt;2667191114704 -->\n",
       "<g id=\"edge1\" class=\"edge\">\n",
       "<title>2667191114704+&#45;&gt;2667191114704</title>\n",
       "<path fill=\"none\" stroke=\"black\" d=\"M287.45,-45.5C294.49,-45.5 302.6,-45.5 311.36,-45.5\"/>\n",
       "<polygon fill=\"black\" stroke=\"black\" points=\"311.27,-49 321.27,-45.5 311.27,-42 311.27,-49\"/>\n",
       "</g>\n",
       "<!-- 2667190427792 -->\n",
       "<g id=\"node4\" class=\"node\">\n",
       "<title>2667190427792</title>\n",
       "<polygon fill=\"none\" stroke=\"black\" points=\"0,-0.5 0,-36.5 197,-36.5 197,-0.5 0,-0.5\"/>\n",
       "<text text-anchor=\"middle\" x=\"40.25\" y=\"-13.2\" font-family=\"Times New Roman,serif\" font-size=\"14.00\">id P2G&#45;101</text>\n",
       "<polyline fill=\"none\" stroke=\"black\" points=\"80.5,-0.75 80.5,-36.5\"/>\n",
       "<text text-anchor=\"middle\" x=\"138.75\" y=\"-13.2\" font-family=\"Times New Roman,serif\" font-size=\"14.00\">dep_score 5.0000</text>\n",
       "</g>\n",
       "<!-- 2667190427792&#45;&gt;2667191114704+ -->\n",
       "<g id=\"edge3\" class=\"edge\">\n",
       "<title>2667190427792&#45;&gt;2667191114704+</title>\n",
       "<path fill=\"none\" stroke=\"black\" d=\"M197.33,-35.06C206.15,-36.55 214.66,-37.99 222.4,-39.3\"/>\n",
       "<polygon fill=\"black\" stroke=\"black\" points=\"221.55,-42.71 231.99,-40.93 222.71,-35.81 221.55,-42.71\"/>\n",
       "</g>\n",
       "</g>\n",
       "</svg>\n"
      ],
      "text/plain": [
       "<graphviz.graphs.Digraph at 0x26d7dbbd5d0>"
      ]
     },
     "execution_count": 30,
     "metadata": {},
     "output_type": "execute_result"
    }
   ],
   "source": [
    "from graphviz import Digraph\n",
    "draw_dot(z)"
   ]
  },
  {
   "cell_type": "code",
   "execution_count": null,
   "id": "79b87f9a-8790-4267-ba43-e05bb48f8577",
   "metadata": {},
   "outputs": [],
   "source": []
  }
 ],
 "metadata": {
  "kernelspec": {
   "display_name": "Python 3 (ipykernel)",
   "language": "python",
   "name": "python3"
  },
  "language_info": {
   "codemirror_mode": {
    "name": "ipython",
    "version": 3
   },
   "file_extension": ".py",
   "mimetype": "text/x-python",
   "name": "python",
   "nbconvert_exporter": "python",
   "pygments_lexer": "ipython3",
   "version": "3.11.5"
  }
 },
 "nbformat": 4,
 "nbformat_minor": 5
}
