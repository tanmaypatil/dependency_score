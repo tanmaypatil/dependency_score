{
 "cells": [
  {
   "cell_type": "code",
   "execution_count": 2,
   "id": "f03d1182-9bed-4cf6-aa63-776f994195d1",
   "metadata": {},
   "outputs": [],
   "source": [
    "import pandas as pd\n",
    "import sys\n",
    "from pathlib import Path"
   ]
  },
  {
   "cell_type": "code",
   "execution_count": 3,
   "id": "4f1f39ae",
   "metadata": {},
   "outputs": [
    {
     "name": "stdout",
     "output_type": "stream",
     "text": [
      "C:\\Users\\u725561\\dependency_score\\requirements\n"
     ]
    }
   ],
   "source": [
    "req_dir = Path('../requirements').resolve()\n",
    "print(req_dir)\n",
    "sys.path.append(str(req_dir))"
   ]
  },
  {
   "cell_type": "code",
   "execution_count": 4,
   "id": "55335837-475e-44db-ad70-a666b4b0ceac",
   "metadata": {},
   "outputs": [],
   "source": [
    "file_path='../requirements/requirement.xlsx'\n",
    "sheet_name='dependency'\n",
    "# Read the worksheet into a pandas DataFrame\n",
    "df = pd.read_excel(file_path, sheet_name=sheet_name)"
   ]
  },
  {
   "cell_type": "code",
   "execution_count": 5,
   "id": "a723c98f-0c39-466a-a123-be79e95c0df2",
   "metadata": {},
   "outputs": [
    {
     "data": {
      "text/html": [
       "<div>\n",
       "<style scoped>\n",
       "    .dataframe tbody tr th:only-of-type {\n",
       "        vertical-align: middle;\n",
       "    }\n",
       "\n",
       "    .dataframe tbody tr th {\n",
       "        vertical-align: top;\n",
       "    }\n",
       "\n",
       "    .dataframe thead th {\n",
       "        text-align: right;\n",
       "    }\n",
       "</style>\n",
       "<table border=\"1\" class=\"dataframe\">\n",
       "  <thead>\n",
       "    <tr style=\"text-align: right;\">\n",
       "      <th></th>\n",
       "      <th>srl num</th>\n",
       "      <th>requirement</th>\n",
       "      <th>dependency</th>\n",
       "      <th>requirement effort</th>\n",
       "      <th>dependency effort</th>\n",
       "      <th>dependency delivery sprint</th>\n",
       "      <th>dependency epic</th>\n",
       "    </tr>\n",
       "  </thead>\n",
       "  <tbody>\n",
       "    <tr>\n",
       "      <th>0</th>\n",
       "      <td>1</td>\n",
       "      <td>P2G-100</td>\n",
       "      <td>devops</td>\n",
       "      <td>100</td>\n",
       "      <td>20</td>\n",
       "      <td>4</td>\n",
       "      <td>GDB-100</td>\n",
       "    </tr>\n",
       "    <tr>\n",
       "      <th>1</th>\n",
       "      <td>2</td>\n",
       "      <td>P2G-100</td>\n",
       "      <td>infra</td>\n",
       "      <td>100</td>\n",
       "      <td>10</td>\n",
       "      <td>3</td>\n",
       "      <td>PCM-100</td>\n",
       "    </tr>\n",
       "    <tr>\n",
       "      <th>2</th>\n",
       "      <td>3</td>\n",
       "      <td>P2G-101</td>\n",
       "      <td>ob</td>\n",
       "      <td>100</td>\n",
       "      <td>10</td>\n",
       "      <td>1</td>\n",
       "      <td>P2G-501</td>\n",
       "    </tr>\n",
       "  </tbody>\n",
       "</table>\n",
       "</div>"
      ],
      "text/plain": [
       "   srl num requirement dependency  requirement effort  dependency effort  \\\n",
       "0        1     P2G-100     devops                 100                 20   \n",
       "1        2     P2G-100      infra                 100                 10   \n",
       "2        3     P2G-101         ob                 100                 10   \n",
       "\n",
       "   dependency delivery sprint dependency epic  \n",
       "0                           4         GDB-100  \n",
       "1                           3         PCM-100  \n",
       "2                           1         P2G-501  "
      ]
     },
     "execution_count": 5,
     "metadata": {},
     "output_type": "execute_result"
    }
   ],
   "source": [
    "df"
   ]
  },
  {
   "cell_type": "code",
   "execution_count": 6,
   "id": "6f8f08cd-7a3d-4a9f-91ed-ccdc92ab2d6d",
   "metadata": {},
   "outputs": [
    {
     "name": "stdout",
     "output_type": "stream",
     "text": [
      "0 P2G-100 100 20 4 GDB-100\n",
      "1 P2G-100 100 10 3 PCM-100\n",
      "2 P2G-101 100 10 1 P2G-501\n"
     ]
    }
   ],
   "source": [
    "for index, row in df.iterrows():\n",
    "    print(index, row['requirement'],row['requirement effort'] ,row['dependency effort'], row['dependency delivery sprint'],row['dependency epic'])"
   ]
  },
  {
   "cell_type": "code",
   "execution_count": null,
   "id": "89759e66",
   "metadata": {},
   "outputs": [],
   "source": []
  }
 ],
 "metadata": {
  "kernelspec": {
   "display_name": "Python 3 (ipykernel)",
   "language": "python",
   "name": "python3"
  },
  "language_info": {
   "codemirror_mode": {
    "name": "ipython",
    "version": 3
   },
   "file_extension": ".py",
   "mimetype": "text/x-python",
   "name": "python",
   "nbconvert_exporter": "python",
   "pygments_lexer": "ipython3",
   "version": "3.9.13"
  }
 },
 "nbformat": 4,
 "nbformat_minor": 5
}
